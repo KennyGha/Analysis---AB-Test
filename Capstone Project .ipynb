{
 "cells": [
  {
   "cell_type": "markdown",
   "metadata": {},
   "source": [
    "# Background   : \n",
    "\n",
    "### The company recently has changed the web site layout and would like to test whether the new page has made more sales when compare to previous one. The test was conducted by redirecting customer to two pages randomly from Oct 11 to Nov 2, total 23 days.\n",
    "\n",
    "### There are two excel files, control.csv which has the unchanged page and experience.csv which is a new page. Both files contain\n",
    "\n",
    "#### Date | PageViews | Click | Enrollments | Payments | Daily Gross Conversion | Dailyy retention | Daily net Conversion"
   ]
  },
  {
   "cell_type": "markdown",
   "metadata": {},
   "source": [
    "## Metric : Daily gross conversion (DGC) ,Daily retention (DR), Daily net conversion (DNC)"
   ]
  },
  {
   "cell_type": "markdown",
   "metadata": {},
   "source": [
    "\n",
    "#### Gross conversion: Tnumber of user-ids to complete checkout and enroll in the\n",
    "free trial divided by number of unique cookies to click the \"Start free trial\" button.\n",
    "(dmin= 0.01)\n",
    "#### Retention: That is, number of user-ids to remain enrolled past the 14-day boundary\n",
    "(and thusmake at least one payment) divided by number of user-ids to complete checkout.\n",
    "(dmin=0.01)\n",
    "#### Net conversion: That is, number of user-ids to remain enrolled past the 14-day boundary\n",
    "(and thus make at least one payment) divided by the number of unique cookies to\n",
    "click the \"Start free trial\" button. (dmin= 0.0075)"
   ]
  },
  {
   "cell_type": "markdown",
   "metadata": {},
   "source": [
    "## RFC : The Problem \n",
    "\n",
    "#### The company would like to check whether the new site has made any improvement on DGC,DR and DNC \n",
    "\n",
    "### The method of testing the solution\n",
    "#### The client has made some change on the page design where place button into more noticeable position \n",
    "#### By studying the TTest would help in identifying whether the approach has made difference"
   ]
  },
  {
   "cell_type": "code",
   "execution_count": 1,
   "metadata": {
    "collapsed": true
   },
   "outputs": [],
   "source": [
    "import pandas as pd\n",
    "import numpy as np\n",
    "import matplotlib.pyplot as plt\n",
    "from sklearn.feature_selection import VarianceThreshold\n",
    "import seaborn as sns\n",
    "import matplotlib.pyplot as plt\n",
    "%matplotlib inline"
   ]
  },
  {
   "cell_type": "code",
   "execution_count": 2,
   "metadata": {
    "collapsed": true
   },
   "outputs": [],
   "source": [
    "controldf=pd.read_csv('control.csv',parse_dates=['Date'])\n",
    "controldf=controldf.dropna()\n",
    "experimentdf=pd.read_csv('experiment.csv',parse_dates=['Date'])\n",
    "experimentdf=experimentdf.dropna()"
   ]
  },
  {
   "cell_type": "code",
   "execution_count": 3,
   "metadata": {},
   "outputs": [
    {
     "data": {
      "text/html": [
       "<div>\n",
       "<style>\n",
       "    .dataframe thead tr:only-child th {\n",
       "        text-align: right;\n",
       "    }\n",
       "\n",
       "    .dataframe thead th {\n",
       "        text-align: left;\n",
       "    }\n",
       "\n",
       "    .dataframe tbody tr th {\n",
       "        vertical-align: top;\n",
       "    }\n",
       "</style>\n",
       "<table border=\"1\" class=\"dataframe\">\n",
       "  <thead>\n",
       "    <tr style=\"text-align: right;\">\n",
       "      <th></th>\n",
       "      <th>Date</th>\n",
       "      <th>Pageviews</th>\n",
       "      <th>Clicks</th>\n",
       "      <th>Enrollments</th>\n",
       "      <th>Payments</th>\n",
       "      <th>daily gross conversion</th>\n",
       "      <th>daily retention</th>\n",
       "      <th>daily net conversion</th>\n",
       "    </tr>\n",
       "  </thead>\n",
       "  <tbody>\n",
       "    <tr>\n",
       "      <th>0</th>\n",
       "      <td>Sat, Oct 11</td>\n",
       "      <td>7723.0</td>\n",
       "      <td>687.0</td>\n",
       "      <td>134.0</td>\n",
       "      <td>70.0</td>\n",
       "      <td>0.195051</td>\n",
       "      <td>0.522388</td>\n",
       "      <td>0.101892</td>\n",
       "    </tr>\n",
       "  </tbody>\n",
       "</table>\n",
       "</div>"
      ],
      "text/plain": [
       "          Date  Pageviews  Clicks  Enrollments  Payments  \\\n",
       "0  Sat, Oct 11     7723.0   687.0        134.0      70.0   \n",
       "\n",
       "   daily gross conversion  daily retention  daily net conversion  \n",
       "0                0.195051         0.522388              0.101892  "
      ]
     },
     "execution_count": 3,
     "metadata": {},
     "output_type": "execute_result"
    }
   ],
   "source": [
    "controldf.head(1)"
   ]
  },
  {
   "cell_type": "code",
   "execution_count": 4,
   "metadata": {},
   "outputs": [
    {
     "data": {
      "text/html": [
       "<div>\n",
       "<style>\n",
       "    .dataframe thead tr:only-child th {\n",
       "        text-align: right;\n",
       "    }\n",
       "\n",
       "    .dataframe thead th {\n",
       "        text-align: left;\n",
       "    }\n",
       "\n",
       "    .dataframe tbody tr th {\n",
       "        vertical-align: top;\n",
       "    }\n",
       "</style>\n",
       "<table border=\"1\" class=\"dataframe\">\n",
       "  <thead>\n",
       "    <tr style=\"text-align: right;\">\n",
       "      <th></th>\n",
       "      <th>Date</th>\n",
       "      <th>Pageviews</th>\n",
       "      <th>Clicks</th>\n",
       "      <th>Enrollments</th>\n",
       "      <th>Payments</th>\n",
       "      <th>daily gross conversion</th>\n",
       "      <th>daily retention</th>\n",
       "      <th>daily net conversion</th>\n",
       "    </tr>\n",
       "  </thead>\n",
       "  <tbody>\n",
       "    <tr>\n",
       "      <th>0</th>\n",
       "      <td>Sat, Oct 11</td>\n",
       "      <td>7716.0</td>\n",
       "      <td>686.0</td>\n",
       "      <td>105.0</td>\n",
       "      <td>34.0</td>\n",
       "      <td>0.153061</td>\n",
       "      <td>0.32381</td>\n",
       "      <td>0.049563</td>\n",
       "    </tr>\n",
       "  </tbody>\n",
       "</table>\n",
       "</div>"
      ],
      "text/plain": [
       "          Date  Pageviews  Clicks  Enrollments  Payments  \\\n",
       "0  Sat, Oct 11     7716.0   686.0        105.0      34.0   \n",
       "\n",
       "   daily gross conversion  daily retention  daily net conversion  \n",
       "0                0.153061          0.32381              0.049563  "
      ]
     },
     "execution_count": 4,
     "metadata": {},
     "output_type": "execute_result"
    }
   ],
   "source": [
    "experimentdf.head(1)"
   ]
  },
  {
   "cell_type": "code",
   "execution_count": 5,
   "metadata": {},
   "outputs": [
    {
     "data": {
      "text/html": [
       "<div>\n",
       "<style>\n",
       "    .dataframe thead tr:only-child th {\n",
       "        text-align: right;\n",
       "    }\n",
       "\n",
       "    .dataframe thead th {\n",
       "        text-align: left;\n",
       "    }\n",
       "\n",
       "    .dataframe tbody tr th {\n",
       "        vertical-align: top;\n",
       "    }\n",
       "</style>\n",
       "<table border=\"1\" class=\"dataframe\">\n",
       "  <thead>\n",
       "    <tr style=\"text-align: right;\">\n",
       "      <th></th>\n",
       "      <th>Date</th>\n",
       "      <th>Pageviews</th>\n",
       "      <th>Clicks</th>\n",
       "      <th>Enrollments</th>\n",
       "      <th>Payments</th>\n",
       "      <th>daily gross conversion</th>\n",
       "      <th>daily retention</th>\n",
       "      <th>daily net conversion</th>\n",
       "      <th>control</th>\n",
       "    </tr>\n",
       "  </thead>\n",
       "  <tbody>\n",
       "    <tr>\n",
       "      <th>0</th>\n",
       "      <td>Sat, Oct 11</td>\n",
       "      <td>7723.0</td>\n",
       "      <td>687.0</td>\n",
       "      <td>134.0</td>\n",
       "      <td>70.0</td>\n",
       "      <td>0.195051</td>\n",
       "      <td>0.522388</td>\n",
       "      <td>0.101892</td>\n",
       "      <td>1</td>\n",
       "    </tr>\n",
       "    <tr>\n",
       "      <th>1</th>\n",
       "      <td>Sun, Oct 12</td>\n",
       "      <td>9102.0</td>\n",
       "      <td>779.0</td>\n",
       "      <td>147.0</td>\n",
       "      <td>70.0</td>\n",
       "      <td>0.188703</td>\n",
       "      <td>0.476190</td>\n",
       "      <td>0.089859</td>\n",
       "      <td>1</td>\n",
       "    </tr>\n",
       "  </tbody>\n",
       "</table>\n",
       "</div>"
      ],
      "text/plain": [
       "          Date  Pageviews  Clicks  Enrollments  Payments  \\\n",
       "0  Sat, Oct 11     7723.0   687.0        134.0      70.0   \n",
       "1  Sun, Oct 12     9102.0   779.0        147.0      70.0   \n",
       "\n",
       "   daily gross conversion  daily retention  daily net conversion  control  \n",
       "0                0.195051         0.522388              0.101892        1  \n",
       "1                0.188703         0.476190              0.089859        1  "
      ]
     },
     "execution_count": 5,
     "metadata": {},
     "output_type": "execute_result"
    }
   ],
   "source": [
    "controldf['control']=1\n",
    "controldf.head(2)"
   ]
  },
  {
   "cell_type": "code",
   "execution_count": 6,
   "metadata": {},
   "outputs": [
    {
     "data": {
      "text/html": [
       "<div>\n",
       "<style>\n",
       "    .dataframe thead tr:only-child th {\n",
       "        text-align: right;\n",
       "    }\n",
       "\n",
       "    .dataframe thead th {\n",
       "        text-align: left;\n",
       "    }\n",
       "\n",
       "    .dataframe tbody tr th {\n",
       "        vertical-align: top;\n",
       "    }\n",
       "</style>\n",
       "<table border=\"1\" class=\"dataframe\">\n",
       "  <thead>\n",
       "    <tr style=\"text-align: right;\">\n",
       "      <th></th>\n",
       "      <th>Date</th>\n",
       "      <th>Pageviews</th>\n",
       "      <th>Clicks</th>\n",
       "      <th>Enrollments</th>\n",
       "      <th>Payments</th>\n",
       "      <th>daily gross conversion</th>\n",
       "      <th>daily retention</th>\n",
       "      <th>daily net conversion</th>\n",
       "      <th>control</th>\n",
       "    </tr>\n",
       "  </thead>\n",
       "  <tbody>\n",
       "    <tr>\n",
       "      <th>0</th>\n",
       "      <td>Sat, Oct 11</td>\n",
       "      <td>7716.0</td>\n",
       "      <td>686.0</td>\n",
       "      <td>105.0</td>\n",
       "      <td>34.0</td>\n",
       "      <td>0.153061</td>\n",
       "      <td>0.323810</td>\n",
       "      <td>0.049563</td>\n",
       "      <td>0</td>\n",
       "    </tr>\n",
       "    <tr>\n",
       "      <th>1</th>\n",
       "      <td>Sun, Oct 12</td>\n",
       "      <td>9288.0</td>\n",
       "      <td>785.0</td>\n",
       "      <td>116.0</td>\n",
       "      <td>91.0</td>\n",
       "      <td>0.147771</td>\n",
       "      <td>0.784483</td>\n",
       "      <td>0.115924</td>\n",
       "      <td>0</td>\n",
       "    </tr>\n",
       "    <tr>\n",
       "      <th>2</th>\n",
       "      <td>Mon, Oct 13</td>\n",
       "      <td>10480.0</td>\n",
       "      <td>884.0</td>\n",
       "      <td>145.0</td>\n",
       "      <td>79.0</td>\n",
       "      <td>0.164027</td>\n",
       "      <td>0.544828</td>\n",
       "      <td>0.089367</td>\n",
       "      <td>0</td>\n",
       "    </tr>\n",
       "    <tr>\n",
       "      <th>3</th>\n",
       "      <td>Tue, Oct 14</td>\n",
       "      <td>9867.0</td>\n",
       "      <td>827.0</td>\n",
       "      <td>138.0</td>\n",
       "      <td>92.0</td>\n",
       "      <td>0.166868</td>\n",
       "      <td>0.666667</td>\n",
       "      <td>0.111245</td>\n",
       "      <td>0</td>\n",
       "    </tr>\n",
       "    <tr>\n",
       "      <th>4</th>\n",
       "      <td>Wed, Oct 15</td>\n",
       "      <td>9793.0</td>\n",
       "      <td>832.0</td>\n",
       "      <td>140.0</td>\n",
       "      <td>94.0</td>\n",
       "      <td>0.168269</td>\n",
       "      <td>0.671429</td>\n",
       "      <td>0.112981</td>\n",
       "      <td>0</td>\n",
       "    </tr>\n",
       "  </tbody>\n",
       "</table>\n",
       "</div>"
      ],
      "text/plain": [
       "          Date  Pageviews  Clicks  Enrollments  Payments  \\\n",
       "0  Sat, Oct 11     7716.0   686.0        105.0      34.0   \n",
       "1  Sun, Oct 12     9288.0   785.0        116.0      91.0   \n",
       "2  Mon, Oct 13    10480.0   884.0        145.0      79.0   \n",
       "3  Tue, Oct 14     9867.0   827.0        138.0      92.0   \n",
       "4  Wed, Oct 15     9793.0   832.0        140.0      94.0   \n",
       "\n",
       "   daily gross conversion  daily retention  daily net conversion  control  \n",
       "0                0.153061         0.323810              0.049563        0  \n",
       "1                0.147771         0.784483              0.115924        0  \n",
       "2                0.164027         0.544828              0.089367        0  \n",
       "3                0.166868         0.666667              0.111245        0  \n",
       "4                0.168269         0.671429              0.112981        0  "
      ]
     },
     "execution_count": 6,
     "metadata": {},
     "output_type": "execute_result"
    }
   ],
   "source": [
    "experimentdf['control']=0\n",
    "experimentdf.head()\n"
   ]
  },
  {
   "cell_type": "markdown",
   "metadata": {},
   "source": [
    "### Explore data set"
   ]
  },
  {
   "cell_type": "code",
   "execution_count": 7,
   "metadata": {},
   "outputs": [
    {
     "data": {
      "image/png": "[encoded data removed]",
      "text/plain": [
       "<matplotlib.figure.Figure at 0x2a051d13a90>"
      ]
     },
     "metadata": {},
     "output_type": "display_data"
    }
   ],
   "source": [
    "plt.figure(figsize=(15, 10))\n",
    "plt.subplot(2,2,1)\n",
    "plt.title('daily gross conversion')\n",
    "plt.hist(controldf['daily gross conversion'],alpha=0.3)\n",
    "plt.hist(experimentdf['daily gross conversion'],alpha=0.3)\n",
    "\n",
    "plt.subplot(2,2,2)\n",
    "plt.title('daily retention')\n",
    "plt.hist(controldf['daily retention'],alpha=0.3)\n",
    "plt.hist(experimentdf['daily retention'],alpha=0.3)\n",
    "\n",
    "plt.subplot(2,2,3)\n",
    "plt.title('daily net conversion')\n",
    "plt.hist(controldf['daily net conversion'],alpha=0.3)\n",
    "plt.hist(experimentdf['daily net conversion'],alpha=0.3)\n",
    "plt.show()"
   ]
  },
  {
   "cell_type": "markdown",
   "metadata": {},
   "source": [
    "### Daily retention and daily net are normalised\n"
   ]
  },
  {
   "cell_type": "code",
   "execution_count": 8,
   "metadata": {},
   "outputs": [
    {
     "data": {
      "image/png": "[encoded data removed]",
      "text/plain": [
       "<matplotlib.figure.Figure at 0x2a051d13748>"
      ]
     },
     "metadata": {},
     "output_type": "display_data"
    }
   ],
   "source": [
    "frame=[controldf,experimentdf]\n",
    "webdf=pd.concat(frame)\n",
    "plt.figure(figsize=(15, 10))\n",
    "\n",
    "plt.subplot(2,2,1)\n",
    "plt.title('daily gross conversion')\n",
    "plt.hist(webdf['daily gross conversion'],alpha=0.5)\n",
    "\n",
    "plt.subplot(2,2,2)\n",
    "plt.title('daily retention')\n",
    "plt.hist(webdf['daily retention'],alpha=0.5)\n",
    "\n",
    "plt.subplot(2,2,3)\n",
    "plt.title('daily net conversion')\n",
    "plt.hist(webdf['daily net conversion'],alpha=0.5)\n",
    "plt.show()"
   ]
  },
  {
   "cell_type": "markdown",
   "metadata": {},
   "source": [
    "\n",
    "## Hypothesis - The pages view , click , Enrollments, Payyments, daily gross conversion, daily retention and daily net conversion has changed positively for new pages\n",
    "\n",
    "### Null :: The new pages can't change those variable positively"
   ]
  },
  {
   "cell_type": "code",
   "execution_count": 9,
   "metadata": {},
   "outputs": [
    {
     "data": {
      "text/html": [
       "<div>\n",
       "<style>\n",
       "    .dataframe thead tr:only-child th {\n",
       "        text-align: right;\n",
       "    }\n",
       "\n",
       "    .dataframe thead th {\n",
       "        text-align: left;\n",
       "    }\n",
       "\n",
       "    .dataframe tbody tr th {\n",
       "        vertical-align: top;\n",
       "    }\n",
       "</style>\n",
       "<table border=\"1\" class=\"dataframe\">\n",
       "  <thead>\n",
       "    <tr style=\"text-align: right;\">\n",
       "      <th></th>\n",
       "      <th>Control</th>\n",
       "      <th>Pages View</th>\n",
       "      <th>Click</th>\n",
       "      <th>Enrollments</th>\n",
       "      <th>Payments</th>\n",
       "      <th>Daily Gross Conversion</th>\n",
       "      <th>Daily Retention</th>\n",
       "      <th>Daily Net Conversion</th>\n",
       "      <th></th>\n",
       "    </tr>\n",
       "    <tr>\n",
       "      <th>ValueName</th>\n",
       "      <th></th>\n",
       "      <th></th>\n",
       "      <th></th>\n",
       "      <th></th>\n",
       "      <th></th>\n",
       "      <th></th>\n",
       "      <th></th>\n",
       "      <th></th>\n",
       "      <th></th>\n",
       "    </tr>\n",
       "  </thead>\n",
       "  <tbody>\n",
       "    <tr>\n",
       "      <th>statistic</th>\n",
       "      <td>0</td>\n",
       "      <td>0.142890</td>\n",
       "      <td>0.065982</td>\n",
       "      <td>1.686513</td>\n",
       "      <td>0.592766</td>\n",
       "      <td>1.539675</td>\n",
       "      <td>-1.008141</td>\n",
       "      <td>0.538778</td>\n",
       "      <td>inf</td>\n",
       "    </tr>\n",
       "    <tr>\n",
       "      <th>pvalue</th>\n",
       "      <td>1</td>\n",
       "      <td>0.887029</td>\n",
       "      <td>0.947691</td>\n",
       "      <td>0.098776</td>\n",
       "      <td>0.556372</td>\n",
       "      <td>0.130801</td>\n",
       "      <td>0.318899</td>\n",
       "      <td>0.592756</td>\n",
       "      <td>0.000000</td>\n",
       "    </tr>\n",
       "  </tbody>\n",
       "</table>\n",
       "</div>"
      ],
      "text/plain": [
       "           Control  Pages View     Click  Enrollments  Payments  \\\n",
       "ValueName                                                         \n",
       "statistic        0    0.142890  0.065982     1.686513  0.592766   \n",
       "pvalue           1    0.887029  0.947691     0.098776  0.556372   \n",
       "\n",
       "           Daily Gross Conversion  Daily Retention  Daily Net Conversion  \\\n",
       "ValueName                                                                  \n",
       "statistic                1.539675        -1.008141              0.538778   \n",
       "pvalue                   0.130801         0.318899              0.592756   \n",
       "\n",
       "                     \n",
       "ValueName            \n",
       "statistic       inf  \n",
       "pvalue     0.000000  "
      ]
     },
     "execution_count": 9,
     "metadata": {},
     "output_type": "execute_result"
    }
   ],
   "source": [
    "np.random.seed(1234)\n",
    "from scipy.stats import ttest_ind\n",
    "\n",
    "control =controldf.iloc[:,1:]\n",
    "experiment = experimentdf.iloc[:,1:]\n",
    "\n",
    "results = ttest_ind(control,experiment)\n",
    "labels = ['Pages View' , 'Click' , 'Enrollments', 'Payments', 'Daily Gross Conversion','Daily Retention' , 'Daily Net Conversion','']\n",
    "\n",
    "#print (results.pvalue)\n",
    "\n",
    "\n",
    "resulthypothese = pd.DataFrame.from_records(results, columns=labels)\n",
    "resulthypothese.index.name='Control'\n",
    "resulthypothese = resulthypothese.reset_index()\n",
    "resulthypothese['ValueName'] = ['statistic','pvalue']\n",
    "resulthypothese = resulthypothese.set_index('ValueName')\n",
    "\n",
    "resulthypothese"
   ]
  },
  {
   "cell_type": "markdown",
   "metadata": {},
   "source": [
    "### We should not reject the the hypothesis null value,  as pvalue of all columns are low. Meaning that there is no significant to reject the null"
   ]
  },
  {
   "cell_type": "markdown",
   "metadata": {},
   "source": [
    "### Run one way test"
   ]
  },
  {
   "cell_type": "code",
   "execution_count": 10,
   "metadata": {},
   "outputs": [
    {
     "data": {
      "text/html": [
       "<div>\n",
       "<style>\n",
       "    .dataframe thead tr:only-child th {\n",
       "        text-align: right;\n",
       "    }\n",
       "\n",
       "    .dataframe thead th {\n",
       "        text-align: left;\n",
       "    }\n",
       "\n",
       "    .dataframe tbody tr th {\n",
       "        vertical-align: top;\n",
       "    }\n",
       "</style>\n",
       "<table border=\"1\" class=\"dataframe\">\n",
       "  <thead>\n",
       "    <tr style=\"text-align: right;\">\n",
       "      <th></th>\n",
       "      <th>Control</th>\n",
       "      <th>Pages View</th>\n",
       "      <th>Click</th>\n",
       "      <th>Enrollments</th>\n",
       "      <th>Payments</th>\n",
       "      <th>Daily Gross Conversion</th>\n",
       "      <th>Daily Retention</th>\n",
       "      <th>Daily Net Conversion</th>\n",
       "      <th></th>\n",
       "    </tr>\n",
       "    <tr>\n",
       "      <th>ValueName</th>\n",
       "      <th></th>\n",
       "      <th></th>\n",
       "      <th></th>\n",
       "      <th></th>\n",
       "      <th></th>\n",
       "      <th></th>\n",
       "      <th></th>\n",
       "      <th></th>\n",
       "      <th></th>\n",
       "    </tr>\n",
       "  </thead>\n",
       "  <tbody>\n",
       "    <tr>\n",
       "      <th>statistic</th>\n",
       "      <td>0</td>\n",
       "      <td>0.142890</td>\n",
       "      <td>0.065982</td>\n",
       "      <td>1.686513</td>\n",
       "      <td>0.592766</td>\n",
       "      <td>1.539675</td>\n",
       "      <td>-1.008141</td>\n",
       "      <td>0.538778</td>\n",
       "      <td>inf</td>\n",
       "    </tr>\n",
       "    <tr>\n",
       "      <th>pvalue</th>\n",
       "      <td>1</td>\n",
       "      <td>0.887029</td>\n",
       "      <td>0.947691</td>\n",
       "      <td>0.098776</td>\n",
       "      <td>0.556372</td>\n",
       "      <td>0.130801</td>\n",
       "      <td>0.318899</td>\n",
       "      <td>0.592756</td>\n",
       "      <td>0.000000</td>\n",
       "    </tr>\n",
       "  </tbody>\n",
       "</table>\n",
       "</div>"
      ],
      "text/plain": [
       "           Control  Pages View     Click  Enrollments  Payments  \\\n",
       "ValueName                                                         \n",
       "statistic        0    0.142890  0.065982     1.686513  0.592766   \n",
       "pvalue           1    0.887029  0.947691     0.098776  0.556372   \n",
       "\n",
       "           Daily Gross Conversion  Daily Retention  Daily Net Conversion  \\\n",
       "ValueName                                                                  \n",
       "statistic                1.539675        -1.008141              0.538778   \n",
       "pvalue                   0.130801         0.318899              0.592756   \n",
       "\n",
       "                     \n",
       "ValueName            \n",
       "statistic       inf  \n",
       "pvalue     0.000000  "
      ]
     },
     "execution_count": 10,
     "metadata": {},
     "output_type": "execute_result"
    }
   ],
   "source": [
    "np.random.seed(1234)\n",
    "from scipy import stats\n",
    "args = [control,experiment]\n",
    "#f,p = stats.f_oneway(*args)\n",
    "result = stats.f_oneway(*args)\n",
    "\n",
    "resulthypothese = pd.DataFrame.from_records(results, columns=labels)\n",
    "resulthypothese.index.name='Control'\n",
    "resulthypothese = resulthypothese.reset_index()\n",
    "resulthypothese['ValueName'] = ['statistic','pvalue']\n",
    "resulthypothese = resulthypothese.set_index('ValueName')\n",
    "resulthypothese"
   ]
  },
  {
   "cell_type": "markdown",
   "metadata": {},
   "source": [
    "### Since there is only 2 dataset , so that the one way test result should be same as ttest. So that we can not reject the null also"
   ]
  },
  {
   "cell_type": "code",
   "execution_count": 98,
   "metadata": {},
   "outputs": [
    {
     "data": {
      "text/html": [
       "<div>\n",
       "<style>\n",
       "    .dataframe thead tr:only-child th {\n",
       "        text-align: right;\n",
       "    }\n",
       "\n",
       "    .dataframe thead th {\n",
       "        text-align: left;\n",
       "    }\n",
       "\n",
       "    .dataframe tbody tr th {\n",
       "        vertical-align: top;\n",
       "    }\n",
       "</style>\n",
       "<table border=\"1\" class=\"dataframe\">\n",
       "  <thead>\n",
       "    <tr style=\"text-align: right;\">\n",
       "      <th></th>\n",
       "      <th>Control</th>\n",
       "      <th>Pages View</th>\n",
       "      <th>Click</th>\n",
       "      <th>Enrollments</th>\n",
       "      <th>Payments</th>\n",
       "      <th>Daily Gross Conversion</th>\n",
       "      <th>Daily Retention</th>\n",
       "      <th>Daily Net Conversion</th>\n",
       "      <th></th>\n",
       "    </tr>\n",
       "    <tr>\n",
       "      <th>ValueName</th>\n",
       "      <th></th>\n",
       "      <th></th>\n",
       "      <th></th>\n",
       "      <th></th>\n",
       "      <th></th>\n",
       "      <th></th>\n",
       "      <th></th>\n",
       "      <th></th>\n",
       "      <th></th>\n",
       "    </tr>\n",
       "  </thead>\n",
       "  <tbody>\n",
       "    <tr>\n",
       "      <th>statistic</th>\n",
       "      <td>0</td>\n",
       "      <td>0.142890</td>\n",
       "      <td>0.065982</td>\n",
       "      <td>1.686513</td>\n",
       "      <td>0.592766</td>\n",
       "      <td>1.539675</td>\n",
       "      <td>-1.008141</td>\n",
       "      <td>0.538778</td>\n",
       "      <td>inf</td>\n",
       "    </tr>\n",
       "    <tr>\n",
       "      <th>pvalue</th>\n",
       "      <td>1</td>\n",
       "      <td>0.887031</td>\n",
       "      <td>0.947694</td>\n",
       "      <td>0.098851</td>\n",
       "      <td>0.556409</td>\n",
       "      <td>0.130841</td>\n",
       "      <td>0.319372</td>\n",
       "      <td>0.592778</td>\n",
       "      <td>0.000000</td>\n",
       "    </tr>\n",
       "  </tbody>\n",
       "</table>\n",
       "</div>"
      ],
      "text/plain": [
       "           Control  Pages View     Click  Enrollments  Payments  \\\n",
       "ValueName                                                         \n",
       "statistic        0    0.142890  0.065982     1.686513  0.592766   \n",
       "pvalue           1    0.887031  0.947694     0.098851  0.556409   \n",
       "\n",
       "           Daily Gross Conversion  Daily Retention  Daily Net Conversion  \\\n",
       "ValueName                                                                  \n",
       "statistic                1.539675        -1.008141              0.538778   \n",
       "pvalue                   0.130841         0.319372              0.592778   \n",
       "\n",
       "                     \n",
       "ValueName            \n",
       "statistic       inf  \n",
       "pvalue     0.000000  "
      ]
     },
     "execution_count": 98,
     "metadata": {},
     "output_type": "execute_result"
    }
   ],
   "source": [
    "## Welch’s t-test\n",
    "np.random.seed(1234)\n",
    "\n",
    "results = ttest_ind(control,experiment,equal_var=False)\n",
    "resulthypothese = pd.DataFrame.from_records(results, columns=labels)\n",
    "resulthypothese.index.name='Control'\n",
    "resulthypothese = resulthypothese.reset_index()\n",
    "resulthypothese['ValueName'] = ['statistic','pvalue']\n",
    "resulthypothese = resulthypothese.set_index('ValueName')\n",
    "resulthypothese"
   ]
  },
  {
   "cell_type": "markdown",
   "metadata": {},
   "source": [
    "## statsmodels.stats.anova.anova_lm\n",
    "http://www.statsmodels.org/dev/generated/statsmodels.stats.anova.anova_lm.html"
   ]
  },
  {
   "cell_type": "markdown",
   "metadata": {},
   "source": [
    "### Daily Gross Conversion Regression"
   ]
  },
  {
   "cell_type": "code",
   "execution_count": 19,
   "metadata": {
    "scrolled": false
   },
   "outputs": [
    {
     "name": "stdout",
     "output_type": "stream",
     "text": [
      "             sum_sq    df          F  PR(>F)\n",
      "control      0.0000   1.0     0.2726  0.6044\n",
      "Payments     0.0000   1.0     0.0393  0.8438\n",
      "Enrollments  0.0514   1.0  5424.1897  0.0000\n",
      "Clicks       0.0157   1.0  1654.5379  0.0000\n",
      "Residual     0.0004  41.0        NaN     NaN\n"
     ]
    }
   ],
   "source": [
    "import statsmodels.api as sm\n",
    "from statsmodels.formula.api import ols\n",
    "import statsmodels\n",
    "from sklearn import preprocessing\n",
    "\n",
    "#formula = 'daily gross conversion ~ C(supp) + C(dose) + C(supp):C(dose)'\n",
    "#formula = \"webdf['daily gross conversion'] ~ C(control)+ C(Payments) + C(Click) \"\n",
    "\n",
    "#formula = \"webdf['daily gross conversion'] ~ C(control)+ C(Payments)\"\n",
    "formula = \"webdf['daily gross conversion'] ~ control+ Payments + Enrollments +Clicks\"\n",
    "model = ols(formula, webdf).fit()\n",
    "aov_table = statsmodels.stats.anova.anova_lm(model, typ=2)\n",
    "print(round(aov_table,4))\n",
    "\n",
    "#formula = 'len ~ C(supp) + C(dose) + C(supp):C(dose)'\n",
    "#In a Two-Way ANOVA, there are two variables to consider. The question is whether our variable\n",
    "#in question (tooth length len) is related to the two other variables supp and dose by the equation:\n",
    "\n",
    "# "
   ]
  },
  {
   "cell_type": "code",
   "execution_count": null,
   "metadata": {
    "collapsed": true
   },
   "outputs": [],
   "source": [
    "### daily retention"
   ]
  },
  {
   "cell_type": "markdown",
   "metadata": {},
   "source": [
    "### Conversion \tDaily Retention"
   ]
  },
  {
   "cell_type": "code",
   "execution_count": 20,
   "metadata": {
    "scrolled": false
   },
   "outputs": [
    {
     "name": "stdout",
     "output_type": "stream",
     "text": [
      "             sum_sq    df         F  PR(>F)\n",
      "control      0.0003   1.0    0.5529  0.4614\n",
      "Payments     0.5104   1.0  814.8883  0.0000\n",
      "Enrollments  0.2927   1.0  467.3347  0.0000\n",
      "Clicks       0.0002   1.0    0.3151  0.5776\n",
      "Residual     0.0257  41.0       NaN     NaN\n"
     ]
    }
   ],
   "source": [
    "formula = \"webdf['daily retention'] ~ control+ Payments + Enrollments +Clicks\"\n",
    "model = ols(formula, webdf).fit()\n",
    "aov_table = statsmodels.stats.anova.anova_lm(model, typ=2)\n",
    "print(round(aov_table,4))"
   ]
  },
  {
   "cell_type": "markdown",
   "metadata": {},
   "source": [
    "### Daily net conversion"
   ]
  },
  {
   "cell_type": "code",
   "execution_count": 21,
   "metadata": {},
   "outputs": [
    {
     "name": "stdout",
     "output_type": "stream",
     "text": [
      "             sum_sq    df          F  PR(>F)\n",
      "control      0.0000   1.0     0.0649  0.8001\n",
      "Payments     0.0244   1.0  5355.8773  0.0000\n",
      "Enrollments  0.0000   1.0     0.0201  0.8880\n",
      "Clicks       0.0050   1.0  1105.9412  0.0000\n",
      "Residual     0.0002  41.0        NaN     NaN\n"
     ]
    }
   ],
   "source": [
    "formula = \"webdf['daily net conversion'] ~ control+ Payments + Enrollments +Clicks\"\n",
    "model = ols(formula, webdf).fit()\n",
    "aov_table = statsmodels.stats.anova.anova_lm(model, typ=2)\n",
    "print(round(aov_table,4))"
   ]
  },
  {
   "cell_type": "markdown",
   "metadata": {},
   "source": [
    "# Conclusion"
   ]
  },
  {
   "cell_type": "markdown",
   "metadata": {},
   "source": [
    "## Base on the above test, it can conclude that the new site has no significance to reject the null value, meaning that hte new site has no significance level to state that it has improve the metric - \n",
    "## 1)daily gross conversion \t2) daily retention  3) \tdaily net conversion"
   ]
  },
  {
   "cell_type": "markdown",
   "metadata": {},
   "source": [
    "# Notes : "
   ]
  },
  {
   "cell_type": "markdown",
   "metadata": {},
   "source": [
    "## One way ANOVA\n",
    "https://en.wikipedia.org/wiki/One-way_analysis_of_variance\n",
    "\n",
    "#### Typically, however, the one-way ANOVA is used to test for differences among at least three groups, since the two-group case can be covered by a t-test (Gosset, 1908). When there are only two means to compare, the t-test and the F-test are equivalent; \n",
    "\n",
    "the relation between ANOVA and t is given by F = t2. An extension of one-way ANOVA is two-way analysis of variance that examines the influence of two different categorical independent variables on one dependent variable.\n",
    "\n",
    "The results of a one-way ANOVA can be considered reliable as long as the following assumptions are met:\n",
    "\n",
    "    Response variable residuals are normally distributed (or approximately normally distributed).\n",
    "    Variances of populations are equal.\n",
    "    Responses for a given group are independent and identically distributed normal random variables (not a simple random sample (SRS)).\n",
    "\n",
    "If data are ordinal, a non-parametric alternative to this test should be used such as Kruskal–Wallis one-way analysis of variance. If the variances are not known to be equal, a generalization of 2-sample Welch's t-test can be used.[2]\n",
    "\n",
    "## Two way ANOVA\n",
    "https://en.wikipedia.org/wiki/Two-way_analysis_of_variance\n",
    "\n",
    "examines the influence of two <B><i>different categorical independent variables</i> </B> \n",
    "on <B><i>one continuous dependent variable</i></B>. \n",
    "The two-way ANOVA not only aims at assessing the main effect of each independent variable but also if there is any interaction between them.\n",
    "\n",
    "## Tukey's range test\n",
    "https://en.wikipedia.org/wiki/Tukey%27s_range_test\n",
    " is a single-step multiple comparison procedure and statistical test.\n",
    " \n",
    " ## TTest Parameter\n",
    " https://docs.scipy.org/doc/scipy-0.14.0/reference/generated/scipy.stats.mstats.ttest_ind.html\n",
    " equal_var : bool, optional\n",
    "\n",
    "    If True (default), perform a standard independent 2 sample test that assumes equal population variances [R704]. If False, perform Welch’s t-test, which does not assume equal population variance"
   ]
  }
 ],
 "metadata": {
  "kernelspec": {
   "display_name": "Python 3",
   "language": "python",
   "name": "python3"
  },
  "language_info": {
   "codemirror_mode": {
    "name": "ipython",
    "version": 3
   },
   "file_extension": ".py",
   "mimetype": "text/x-python",
   "name": "python",
   "nbconvert_exporter": "python",
   "pygments_lexer": "ipython3",
   "version": "3.6.2"
  }
 },
 "nbformat": 4,
 "nbformat_minor": 2
}
