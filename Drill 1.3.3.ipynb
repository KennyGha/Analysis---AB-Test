{
 "cells": [
  {
   "cell_type": "code",
   "execution_count": 42,
   "metadata": {
    "collapsed": true
   },
   "outputs": [],
   "source": [
    "import pandas as pd\n",
    "import numpy as np\n",
    "import matplotlib.pyplot as plt\n",
    "import seaborn as sns\n",
    "import matplotlib.pyplot as plt\n",
    "%matplotlib inline"
   ]
  },
  {
   "cell_type": "code",
   "execution_count": 43,
   "metadata": {},
   "outputs": [],
   "source": [
    "df=pd.read_csv('WELLCOME_APCspend2013_forThinkful.csv',encoding='ISO-8859-1')"
   ]
  },
  {
   "cell_type": "code",
   "execution_count": 44,
   "metadata": {},
   "outputs": [
    {
     "data": {
      "text/html": [
       "<div>\n",
       "<style>\n",
       "    .dataframe thead tr:only-child th {\n",
       "        text-align: right;\n",
       "    }\n",
       "\n",
       "    .dataframe thead th {\n",
       "        text-align: left;\n",
       "    }\n",
       "\n",
       "    .dataframe tbody tr th {\n",
       "        vertical-align: top;\n",
       "    }\n",
       "</style>\n",
       "<table border=\"1\" class=\"dataframe\">\n",
       "  <thead>\n",
       "    <tr style=\"text-align: right;\">\n",
       "      <th></th>\n",
       "      <th>PMID/PMCID</th>\n",
       "      <th>Publisher</th>\n",
       "      <th>Journal title</th>\n",
       "      <th>Article title</th>\n",
       "      <th>COST (£) charged to Wellcome (inc VAT when charged)</th>\n",
       "    </tr>\n",
       "  </thead>\n",
       "  <tbody>\n",
       "    <tr>\n",
       "      <th>0</th>\n",
       "      <td>NaN</td>\n",
       "      <td>CUP</td>\n",
       "      <td>Psychological Medicine</td>\n",
       "      <td>Reduced parahippocampal cortical thickness in ...</td>\n",
       "      <td>£0.00</td>\n",
       "    </tr>\n",
       "    <tr>\n",
       "      <th>1</th>\n",
       "      <td>PMC3679557</td>\n",
       "      <td>ACS</td>\n",
       "      <td>Biomacromolecules</td>\n",
       "      <td>Structural characterization of a Model Gram-ne...</td>\n",
       "      <td>£2381.04</td>\n",
       "    </tr>\n",
       "  </tbody>\n",
       "</table>\n",
       "</div>"
      ],
      "text/plain": [
       "   PMID/PMCID Publisher           Journal title  \\\n",
       "0         NaN       CUP  Psychological Medicine   \n",
       "1  PMC3679557       ACS       Biomacromolecules   \n",
       "\n",
       "                                       Article title  \\\n",
       "0  Reduced parahippocampal cortical thickness in ...   \n",
       "1  Structural characterization of a Model Gram-ne...   \n",
       "\n",
       "  COST (£) charged to Wellcome (inc VAT when charged)  \n",
       "0                                              £0.00   \n",
       "1                                           £2381.04   "
      ]
     },
     "execution_count": 44,
     "metadata": {},
     "output_type": "execute_result"
    }
   ],
   "source": [
    "df.head(2)"
   ]
  },
  {
   "cell_type": "code",
   "execution_count": 45,
   "metadata": {},
   "outputs": [
    {
     "name": "stdout",
     "output_type": "stream",
     "text": [
      "<class 'pandas.core.frame.DataFrame'>\n",
      "RangeIndex: 2127 entries, 0 to 2126\n",
      "Data columns (total 5 columns):\n",
      "PMID/PMCID                                             1928 non-null object\n",
      "Publisher                                              2127 non-null object\n",
      "Journal title                                          2126 non-null object\n",
      "Article title                                          2127 non-null object\n",
      "COST (£) charged to Wellcome (inc VAT when charged)    2127 non-null object\n",
      "dtypes: object(5)\n",
      "memory usage: 83.2+ KB\n"
     ]
    }
   ],
   "source": [
    "df.info()"
   ]
  },
  {
   "cell_type": "code",
   "execution_count": 46,
   "metadata": {},
   "outputs": [
    {
     "data": {
      "text/plain": [
       "(2127, 5)"
      ]
     },
     "execution_count": 46,
     "metadata": {},
     "output_type": "execute_result"
    }
   ],
   "source": [
    "df = df.drop_duplicates()\n",
    "df.shape"
   ]
  },
  {
   "cell_type": "code",
   "execution_count": 47,
   "metadata": {},
   "outputs": [
    {
     "data": {
      "text/plain": [
       "<matplotlib.axes._subplots.AxesSubplot at 0x1ca9fc95d68>"
      ]
     },
     "execution_count": 47,
     "metadata": {},
     "output_type": "execute_result"
    },
    {
     "data": {
      "image/png": "[encoded data removed]",
      "text/plain": [
       "<matplotlib.figure.Figure at 0x1ca9fc95588>"
      ]
     },
     "metadata": {},
     "output_type": "display_data"
    }
   ],
   "source": [
    "plt.figure()\n",
    "sns.countplot(y='PMID/PMCID', data=df)"
   ]
  },
  {
   "cell_type": "markdown",
   "metadata": {},
   "source": [
    "### Since each is unique =1 or =2"
   ]
  },
  {
   "cell_type": "code",
   "execution_count": 48,
   "metadata": {},
   "outputs": [],
   "source": [
    "df['PMID/PMCID']= df['PMID/PMCID'].str.replace('\\n', '')\n",
    "word_split = df['PMID/PMCID'].str.split('PMC', expand=True)\n",
    "df['PMCID'] = word_split[0].str.replace('PMID: ', '')\n",
    "df['PMC'] = word_split[1]"
   ]
  },
  {
   "cell_type": "code",
   "execution_count": 49,
   "metadata": {},
   "outputs": [
    {
     "data": {
      "text/plain": [
       "0              None\n",
       "1           3679557\n",
       "2          3506128 \n",
       "3           3646402\n",
       "4          3601604 \n",
       "5           3579457\n",
       "6           3709265\n",
       "7          3495574 \n",
       "8              ID: \n",
       "9              ID: \n",
       "10             ID: \n",
       "11             ID: \n",
       "12             ID: \n",
       "13          3413243\n",
       "14          3694353\n",
       "15          3572711\n",
       "16             None\n",
       "17             ID: \n",
       "18             ID: \n",
       "19         3833349 \n",
       "20         3805332 \n",
       "21             None\n",
       "22          ID:    \n",
       "23      ID: 3584654\n",
       "24          3466778\n",
       "25             None\n",
       "26          3477822\n",
       "27          3530960\n",
       "28         3630740 \n",
       "29             None\n",
       "           ...     \n",
       "2097           None\n",
       "2098       3492912 \n",
       "2099       3798095 \n",
       "2100           None\n",
       "2101           ID: \n",
       "2102           None\n",
       "2103        2955965\n",
       "2104       3551259 \n",
       "2105           None\n",
       "2106           ID: \n",
       "2107        3440570\n",
       "2108       3738939 \n",
       "2109           None\n",
       "2110           None\n",
       "2111           ID: \n",
       "2112      3743159  \n",
       "2113       3569869 \n",
       "2114           None\n",
       "2115        3713766\n",
       "2116        3819359\n",
       "2117       3773237 \n",
       "2118       3815011 \n",
       "2119        3805356\n",
       "2120           None\n",
       "2121        3707567\n",
       "2122           None\n",
       "2123           None\n",
       "2124           None\n",
       "2125        ID:    \n",
       "2126           None\n",
       "Name: PMC, Length: 2127, dtype: object"
      ]
     },
     "execution_count": 49,
     "metadata": {},
     "output_type": "execute_result"
    }
   ],
   "source": [
    "df['PMC'] "
   ]
  },
  {
   "cell_type": "code",
   "execution_count": 72,
   "metadata": {},
   "outputs": [
    {
     "data": {
      "text/plain": [
       "0              \n",
       "1       3679557\n",
       "2       3506128\n",
       "3       3646402\n",
       "4       3601604\n",
       "5       3579457\n",
       "6       3709265\n",
       "7       3495574\n",
       "8              \n",
       "9              \n",
       "10             \n",
       "11             \n",
       "12             \n",
       "13      3413243\n",
       "14      3694353\n",
       "15      3572711\n",
       "16             \n",
       "17             \n",
       "18             \n",
       "19      3833349\n",
       "20      3805332\n",
       "21             \n",
       "22             \n",
       "23      3584654\n",
       "24      3466778\n",
       "25             \n",
       "26      3477822\n",
       "27      3530960\n",
       "28      3630740\n",
       "29             \n",
       "         ...   \n",
       "2097           \n",
       "2098    3492912\n",
       "2099    3798095\n",
       "2100           \n",
       "2101           \n",
       "2102           \n",
       "2103    2955965\n",
       "2104    3551259\n",
       "2105           \n",
       "2106           \n",
       "2107    3440570\n",
       "2108    3738939\n",
       "2109           \n",
       "2110           \n",
       "2111           \n",
       "2112    3743159\n",
       "2113    3569869\n",
       "2114           \n",
       "2115    3713766\n",
       "2116    3819359\n",
       "2117    3773237\n",
       "2118    3815011\n",
       "2119    3805356\n",
       "2120           \n",
       "2121    3707567\n",
       "2122           \n",
       "2123           \n",
       "2124           \n",
       "2125           \n",
       "2126           \n",
       "Name: PMC, Length: 2127, dtype: object"
      ]
     },
     "execution_count": 72,
     "metadata": {},
     "output_type": "execute_result"
    }
   ],
   "source": [
    "#df['PMC'] = df['PMC'].apply(lambda x: x.str.strip())\n",
    "#df[df_obj.columns] = df_obj.apply(lambda x: x.str.strip())\n",
    "df['PMC']=df['PMC'].str.strip()\n",
    "df['PMC']= df['PMC'].str.replace('None', '')\n",
    "df['PMC']= df['PMC'].str.replace('ID:', '')\n",
    "df['PMC']= df['PMC'].fillna('')\n",
    "df['PMC']"
   ]
  },
  {
   "cell_type": "code",
   "execution_count": 71,
   "metadata": {},
   "outputs": [
    {
     "data": {
      "text/plain": [
       "0                     \n",
       "1                     \n",
       "2             23043264\n",
       "3             23438330\n",
       "4             23438216\n",
       "5                     \n",
       "6                     \n",
       "7             23057412\n",
       "8                     \n",
       "9                     \n",
       "10                    \n",
       "11                    \n",
       "12                    \n",
       "13                    \n",
       "14                    \n",
       "15                    \n",
       "16            22610094\n",
       "17                    \n",
       "18            23455506\n",
       "19            24015914\n",
       "20                    \n",
       "21                    \n",
       "22                    \n",
       "23                    \n",
       "24            22971149\n",
       "25            23072351\n",
       "26                    \n",
       "27                    \n",
       "28            23458425\n",
       "29            20146481\n",
       "             ...      \n",
       "2097           3575693\n",
       "2098          22188548\n",
       "2099          22764734\n",
       "2100          23703895\n",
       "2101                  \n",
       "2102          23649934\n",
       "2103                  \n",
       "2104          19948006\n",
       "2105          23305527\n",
       "2106                  \n",
       "2107                  \n",
       "2108          23670821\n",
       "2109          23640856\n",
       "2110          23918316\n",
       "2111                  \n",
       "2112    23495205685.88\n",
       "2113          22997008\n",
       "2114           3708104\n",
       "2115                  \n",
       "2116                  \n",
       "2117                  \n",
       "2118                  \n",
       "2119                  \n",
       "2120                  \n",
       "2121                  \n",
       "2122           2901593\n",
       "2123           3748854\n",
       "2124           3785148\n",
       "2125                  \n",
       "2126      23846567  ()\n",
       "Name: PMCID, Length: 2127, dtype: object"
      ]
     },
     "execution_count": 71,
     "metadata": {},
     "output_type": "execute_result"
    }
   ],
   "source": [
    "df['PMCID'] =df['PMCID'].str.strip()\n",
    "\n",
    "df['PMCID']= df['PMCID'].str.replace('None', '')\n",
    "df['PMCID']= df['PMCID'].str.replace('ID:', '')\n",
    "df['PMCID']= df['PMCID'].str.replace(':', '')\n",
    "df['PMCID']= df['PMCID'].str.replace('Epub', '')\n",
    "df['PMCID']= df['PMCID'].str.replace('PM', '')\n",
    "df['PMCID']= df['PMCID'].str.replace('( July 2013)', '')\n",
    "df['PMCID']= df['PMCID'].fillna('')\n",
    "df['PMCID']"
   ]
  },
  {
   "cell_type": "code",
   "execution_count": 74,
   "metadata": {},
   "outputs": [
    {
     "data": {
      "text/plain": [
       "array(['£', '1', '2', '6'], dtype=object)"
      ]
     },
     "execution_count": 74,
     "metadata": {},
     "output_type": "execute_result"
    }
   ],
   "source": [
    "df['MoneySybmol'] = df['COST (£) charged to Wellcome (inc VAT when charged)'].astype(str).str[0]\n",
    "df['MoneySybmol'].unique()"
   ]
  },
  {
   "cell_type": "code",
   "execution_count": 75,
   "metadata": {},
   "outputs": [
    {
     "data": {
      "text/plain": [
       "array(['0', '2', '6', '1', '3', '9', '7', '5', '4', '8'], dtype=object)"
      ]
     },
     "execution_count": 75,
     "metadata": {},
     "output_type": "execute_result"
    }
   ],
   "source": [
    "df['COST (£) charged to Wellcome (inc VAT when charged)'] = df['COST (£) charged to Wellcome (inc VAT when charged)'].str.replace('£', '')\n",
    "df['MoneySybmol'] = df['COST (£) charged to Wellcome (inc VAT when charged)'].astype(str).str[0]\n",
    "df['MoneySybmol'].unique()"
   ]
  },
  {
   "cell_type": "code",
   "execution_count": 76,
   "metadata": {},
   "outputs": [
    {
     "data": {
      "text/html": [
       "<div>\n",
       "<style>\n",
       "    .dataframe thead tr:only-child th {\n",
       "        text-align: right;\n",
       "    }\n",
       "\n",
       "    .dataframe thead th {\n",
       "        text-align: left;\n",
       "    }\n",
       "\n",
       "    .dataframe tbody tr th {\n",
       "        vertical-align: top;\n",
       "    }\n",
       "</style>\n",
       "<table border=\"1\" class=\"dataframe\">\n",
       "  <thead>\n",
       "    <tr style=\"text-align: right;\">\n",
       "      <th></th>\n",
       "      <th>PMID/PMCID</th>\n",
       "      <th>Publisher</th>\n",
       "      <th>Journal title</th>\n",
       "      <th>Article title</th>\n",
       "      <th>COST (£) charged to Wellcome (inc VAT when charged)</th>\n",
       "      <th>PMCID</th>\n",
       "      <th>PMC</th>\n",
       "      <th>MoneySybmol</th>\n",
       "    </tr>\n",
       "  </thead>\n",
       "  <tbody>\n",
       "    <tr>\n",
       "      <th>0</th>\n",
       "      <td>NaN</td>\n",
       "      <td>CUP</td>\n",
       "      <td>Psychological Medicine</td>\n",
       "      <td>Reduced parahippocampal cortical thickness in ...</td>\n",
       "      <td>0.00</td>\n",
       "      <td></td>\n",
       "      <td></td>\n",
       "      <td>0</td>\n",
       "    </tr>\n",
       "    <tr>\n",
       "      <th>1</th>\n",
       "      <td>PMC3679557</td>\n",
       "      <td>ACS</td>\n",
       "      <td>Biomacromolecules</td>\n",
       "      <td>Structural characterization of a Model Gram-ne...</td>\n",
       "      <td>2381.04</td>\n",
       "      <td></td>\n",
       "      <td>3679557</td>\n",
       "      <td>2</td>\n",
       "    </tr>\n",
       "    <tr>\n",
       "      <th>2</th>\n",
       "      <td>23043264  PMC3506128</td>\n",
       "      <td>ACS</td>\n",
       "      <td>J Med Chem</td>\n",
       "      <td>Fumaroylamino-4,5-epoxymorphinans and related ...</td>\n",
       "      <td>642.56</td>\n",
       "      <td>23043264</td>\n",
       "      <td>3506128</td>\n",
       "      <td>6</td>\n",
       "    </tr>\n",
       "    <tr>\n",
       "      <th>3</th>\n",
       "      <td>23438330 PMC3646402</td>\n",
       "      <td>ACS</td>\n",
       "      <td>J Med Chem</td>\n",
       "      <td>Orvinols with mixed kappa/mu opioid receptor a...</td>\n",
       "      <td>669.64</td>\n",
       "      <td>23438330</td>\n",
       "      <td>3646402</td>\n",
       "      <td>6</td>\n",
       "    </tr>\n",
       "    <tr>\n",
       "      <th>4</th>\n",
       "      <td>23438216 PMC3601604</td>\n",
       "      <td>ACS</td>\n",
       "      <td>J Org Chem</td>\n",
       "      <td>Regioselective opening of myo-inositol orthoes...</td>\n",
       "      <td>685.88</td>\n",
       "      <td>23438216</td>\n",
       "      <td>3601604</td>\n",
       "      <td>6</td>\n",
       "    </tr>\n",
       "  </tbody>\n",
       "</table>\n",
       "</div>"
      ],
      "text/plain": [
       "              PMID/PMCID Publisher           Journal title  \\\n",
       "0                    NaN       CUP  Psychological Medicine   \n",
       "1             PMC3679557       ACS       Biomacromolecules   \n",
       "2  23043264  PMC3506128        ACS              J Med Chem   \n",
       "3    23438330 PMC3646402       ACS              J Med Chem   \n",
       "4   23438216 PMC3601604        ACS              J Org Chem   \n",
       "\n",
       "                                       Article title  \\\n",
       "0  Reduced parahippocampal cortical thickness in ...   \n",
       "1  Structural characterization of a Model Gram-ne...   \n",
       "2  Fumaroylamino-4,5-epoxymorphinans and related ...   \n",
       "3  Orvinols with mixed kappa/mu opioid receptor a...   \n",
       "4  Regioselective opening of myo-inositol orthoes...   \n",
       "\n",
       "  COST (£) charged to Wellcome (inc VAT when charged)     PMCID      PMC  \\\n",
       "0                                               0.00                       \n",
       "1                                            2381.04             3679557   \n",
       "2                                             642.56   23043264  3506128   \n",
       "3                                             669.64   23438330  3646402   \n",
       "4                                             685.88   23438216  3601604   \n",
       "\n",
       "  MoneySybmol  \n",
       "0           0  \n",
       "1           2  \n",
       "2           6  \n",
       "3           6  \n",
       "4           6  "
      ]
     },
     "execution_count": 76,
     "metadata": {},
     "output_type": "execute_result"
    }
   ],
   "source": [
    "df.head()"
   ]
  },
  {
   "cell_type": "code",
   "execution_count": 79,
   "metadata": {},
   "outputs": [
    {
     "data": {
      "text/html": [
       "<div>\n",
       "<style>\n",
       "    .dataframe thead tr:only-child th {\n",
       "        text-align: right;\n",
       "    }\n",
       "\n",
       "    .dataframe thead th {\n",
       "        text-align: left;\n",
       "    }\n",
       "\n",
       "    .dataframe tbody tr th {\n",
       "        vertical-align: top;\n",
       "    }\n",
       "</style>\n",
       "<table border=\"1\" class=\"dataframe\">\n",
       "  <thead>\n",
       "    <tr style=\"text-align: right;\">\n",
       "      <th></th>\n",
       "      <th>PMID/PMCID</th>\n",
       "      <th>Publisher</th>\n",
       "      <th>Journal title</th>\n",
       "      <th>Article title</th>\n",
       "      <th>COST (£) charged to Wellcome (inc VAT when charged)</th>\n",
       "      <th>PMCID</th>\n",
       "      <th>PMC</th>\n",
       "    </tr>\n",
       "  </thead>\n",
       "  <tbody>\n",
       "    <tr>\n",
       "      <th>0</th>\n",
       "      <td>NaN</td>\n",
       "      <td>CUP</td>\n",
       "      <td>Psychological Medicine</td>\n",
       "      <td>Reduced parahippocampal cortical thickness in ...</td>\n",
       "      <td>0.00</td>\n",
       "      <td></td>\n",
       "      <td></td>\n",
       "    </tr>\n",
       "    <tr>\n",
       "      <th>1</th>\n",
       "      <td>PMC3679557</td>\n",
       "      <td>ACS</td>\n",
       "      <td>Biomacromolecules</td>\n",
       "      <td>Structural characterization of a Model Gram-ne...</td>\n",
       "      <td>2381.04</td>\n",
       "      <td></td>\n",
       "      <td>3679557</td>\n",
       "    </tr>\n",
       "    <tr>\n",
       "      <th>2</th>\n",
       "      <td>23043264  PMC3506128</td>\n",
       "      <td>ACS</td>\n",
       "      <td>J Med Chem</td>\n",
       "      <td>Fumaroylamino-4,5-epoxymorphinans and related ...</td>\n",
       "      <td>642.56</td>\n",
       "      <td>23043264</td>\n",
       "      <td>3506128</td>\n",
       "    </tr>\n",
       "    <tr>\n",
       "      <th>3</th>\n",
       "      <td>23438330 PMC3646402</td>\n",
       "      <td>ACS</td>\n",
       "      <td>J Med Chem</td>\n",
       "      <td>Orvinols with mixed kappa/mu opioid receptor a...</td>\n",
       "      <td>669.64</td>\n",
       "      <td>23438330</td>\n",
       "      <td>3646402</td>\n",
       "    </tr>\n",
       "    <tr>\n",
       "      <th>4</th>\n",
       "      <td>23438216 PMC3601604</td>\n",
       "      <td>ACS</td>\n",
       "      <td>J Org Chem</td>\n",
       "      <td>Regioselective opening of myo-inositol orthoes...</td>\n",
       "      <td>685.88</td>\n",
       "      <td>23438216</td>\n",
       "      <td>3601604</td>\n",
       "    </tr>\n",
       "  </tbody>\n",
       "</table>\n",
       "</div>"
      ],
      "text/plain": [
       "              PMID/PMCID Publisher           Journal title  \\\n",
       "0                    NaN       CUP  Psychological Medicine   \n",
       "1             PMC3679557       ACS       Biomacromolecules   \n",
       "2  23043264  PMC3506128        ACS              J Med Chem   \n",
       "3    23438330 PMC3646402       ACS              J Med Chem   \n",
       "4   23438216 PMC3601604        ACS              J Org Chem   \n",
       "\n",
       "                                       Article title  \\\n",
       "0  Reduced parahippocampal cortical thickness in ...   \n",
       "1  Structural characterization of a Model Gram-ne...   \n",
       "2  Fumaroylamino-4,5-epoxymorphinans and related ...   \n",
       "3  Orvinols with mixed kappa/mu opioid receptor a...   \n",
       "4  Regioselective opening of myo-inositol orthoes...   \n",
       "\n",
       "  COST (£) charged to Wellcome (inc VAT when charged)     PMCID      PMC  \n",
       "0                                               0.00                      \n",
       "1                                            2381.04             3679557  \n",
       "2                                             642.56   23043264  3506128  \n",
       "3                                             669.64   23438330  3646402  \n",
       "4                                             685.88   23438216  3601604  "
      ]
     },
     "execution_count": 79,
     "metadata": {},
     "output_type": "execute_result"
    }
   ],
   "source": [
    "df=df.drop('MoneySybmol', axis=1)\n",
    "df.head()"
   ]
  },
  {
   "cell_type": "code",
   "execution_count": null,
   "metadata": {
    "collapsed": true
   },
   "outputs": [],
   "source": []
  }
 ],
 "metadata": {
  "kernelspec": {
   "display_name": "Python 3",
   "language": "python",
   "name": "python3"
  },
  "language_info": {
   "codemirror_mode": {
    "name": "ipython",
    "version": 3
   },
   "file_extension": ".py",
   "mimetype": "text/x-python",
   "name": "python",
   "nbconvert_exporter": "python",
   "pygments_lexer": "ipython3",
   "version": "3.6.2"
  }
 },
 "nbformat": 4,
 "nbformat_minor": 2
}
